{
 "cells": [
  {
   "cell_type": "markdown",
   "metadata": {
    "colab_type": "text",
    "id": "2ly_3j5lIOwQ"
   },
   "source": [
    "<H1>Práctica de Análisis Estadístico del viento</H1>\n",
    "<h2>Grupo de datos 10</h2>\n",
    "\n",
    "\n",
    "**Andrés Màs, Pau Núñez Jaime Ignacio Vicente**\n",
    "\n",
    "_Junio 2020_"
   ]
  },
  {
   "cell_type": "markdown",
   "metadata": {
    "colab_type": "text",
    "id": "6CfPMTjFIOwR"
   },
   "source": [
    "Se describen los pasos del mátodo de  analisis estadístico del los registros de velocidades y dirección de un sítio determinado. Las medidas corresponden a la velocidad y dirección para dos alturas en concreto, 10 y 40 m. \n",
    "\n",
    "Este  análisis de los registros está basado en el uso de  de herramientas Python específicas como [pandas package](https://pandas.pydata.org/)  destinadas al análisis de grandes cantidades de datos, comunes en [Data Mining](https://en.wikipedia.org/wiki/Data_mining) o [Deep Learning](https://en.wikipedia.org/wiki/Deep_learning). \n",
    "\n",
    "Inicialización de entorno y herramientas de análisis y graficación."
   ]
  },
  {
   "cell_type": "code",
   "execution_count": 29,
   "metadata": {
    "colab": {},
    "colab_type": "code",
    "id": "q0T4CUZOIOwR"
   },
   "outputs": [],
   "source": [
    "import math\n",
    "from math import gamma\n",
    "import numpy as np\n",
    "import pandas as pd\n",
    "import matplotlib.pyplot as plt\n",
    "%matplotlib inline"
   ]
  },
  {
   "cell_type": "markdown",
   "metadata": {
    "colab_type": "text",
    "id": "Yfi00I1JIOwV"
   },
   "source": [
    "Importación de datos. Este proceso es transparente para el caso de __pandas__ así como la identificación del tipo de datos y las variables de indexación de campos. Diferente al caso de lo realizado con la herramienta  [Matlab](https://es.mathworks.com/campaigns/products/trials.html?gclid=EAIaIQobChMIyo_ghpL56QIVyLLVCh1EUQfEEAAYASAAEgIle_D_BwE&ef_id=EAIaIQobChMIyo_ghpL56QIVyLLVCh1EUQfEEAAYASAAEgIle_D_BwE:G:s&s_kwcid=AL!8664!3!252706751991!e!!g!!matlab&s_eid=ppc_29742641962&q=matlab) usada en las prácticas."
   ]
  },
  {
   "cell_type": "code",
   "execution_count": 30,
   "metadata": {
    "colab": {},
    "colab_type": "code",
    "id": "n9Qiv83jIOwV"
   },
   "outputs": [],
   "source": [
    "dataWind = pd.read_csv('Group_10.csv.gz',sep=',')\n",
    "dataWind=dataWind.loc[~((dataWind.vel1 > 60) | (dataWind.vel2 > 60))]"
   ]
  },
  {
   "cell_type": "markdown",
   "metadata": {
    "colab_type": "text",
    "id": "6CfPMTjFIOwR"
   },
   "source": [
    "El sensor que mide la velocidad del viento puede haber fallado o haber dado datos incorrectos. De hecho al graficar los datos nos hemos percatado de que efectivamente había valores que no tenían sentido. De hecho algunos de los valores que el sensor había dado mostraban una velocidad del viento muy superior a los otros valores, en concreto de casi 100m/s. Esto no puede ser y se debe efectivamente a un valor erróneo del sensor. Lo mismo pasaría si el sensor hubiera dado por ejemplo valores negativos. Por esta razón, el primer paso que se ha llevado a cabo es un acondicionamiento de los datos, en concreto un filtrado, limitando los valores del sensor a aquellos razonables. Como en nuestro caso el sensor había dado valores muy altos se limito a 60m/s los valores de los datos que se nos habían proporcionado."
   ]
  },
  {
   "cell_type": "code",
   "execution_count": 31,
   "metadata": {
    "colab": {},
    "colab_type": "code",
    "id": "Uz7aSXXXIOwX",
    "outputId": "aec8f8a4-0b42-43e9-8a53-7d205e5af142"
   },
   "outputs": [
    {
     "data": {
      "text/html": [
       "<div>\n",
       "<style scoped>\n",
       "    .dataframe tbody tr th:only-of-type {\n",
       "        vertical-align: middle;\n",
       "    }\n",
       "\n",
       "    .dataframe tbody tr th {\n",
       "        vertical-align: top;\n",
       "    }\n",
       "\n",
       "    .dataframe thead th {\n",
       "        text-align: right;\n",
       "    }\n",
       "</style>\n",
       "<table border=\"1\" class=\"dataframe\">\n",
       "  <thead>\n",
       "    <tr style=\"text-align: right;\">\n",
       "      <th></th>\n",
       "      <th>Year</th>\n",
       "      <th>Month</th>\n",
       "      <th>Day</th>\n",
       "      <th>Hour</th>\n",
       "      <th>vel1</th>\n",
       "      <th>vel2</th>\n",
       "      <th>dir</th>\n",
       "      <th>Temp</th>\n",
       "    </tr>\n",
       "  </thead>\n",
       "  <tbody>\n",
       "    <tr>\n",
       "      <th>0</th>\n",
       "      <td>99</td>\n",
       "      <td>Jan</td>\n",
       "      <td>1</td>\n",
       "      <td>0</td>\n",
       "      <td>6.20</td>\n",
       "      <td>7.40</td>\n",
       "      <td>92.6</td>\n",
       "      <td>-4.9</td>\n",
       "    </tr>\n",
       "    <tr>\n",
       "      <th>1</th>\n",
       "      <td>99</td>\n",
       "      <td>Jan</td>\n",
       "      <td>1</td>\n",
       "      <td>1</td>\n",
       "      <td>6.86</td>\n",
       "      <td>7.78</td>\n",
       "      <td>86.0</td>\n",
       "      <td>-4.2</td>\n",
       "    </tr>\n",
       "    <tr>\n",
       "      <th>2</th>\n",
       "      <td>99</td>\n",
       "      <td>Jan</td>\n",
       "      <td>1</td>\n",
       "      <td>2</td>\n",
       "      <td>7.50</td>\n",
       "      <td>8.50</td>\n",
       "      <td>86.3</td>\n",
       "      <td>-3.7</td>\n",
       "    </tr>\n",
       "    <tr>\n",
       "      <th>3</th>\n",
       "      <td>99</td>\n",
       "      <td>Jan</td>\n",
       "      <td>1</td>\n",
       "      <td>3</td>\n",
       "      <td>7.43</td>\n",
       "      <td>8.42</td>\n",
       "      <td>91.9</td>\n",
       "      <td>-3.8</td>\n",
       "    </tr>\n",
       "    <tr>\n",
       "      <th>4</th>\n",
       "      <td>99</td>\n",
       "      <td>Jan</td>\n",
       "      <td>1</td>\n",
       "      <td>4</td>\n",
       "      <td>7.64</td>\n",
       "      <td>8.61</td>\n",
       "      <td>89.5</td>\n",
       "      <td>-4.1</td>\n",
       "    </tr>\n",
       "    <tr>\n",
       "      <th>...</th>\n",
       "      <td>...</td>\n",
       "      <td>...</td>\n",
       "      <td>...</td>\n",
       "      <td>...</td>\n",
       "      <td>...</td>\n",
       "      <td>...</td>\n",
       "      <td>...</td>\n",
       "      <td>...</td>\n",
       "    </tr>\n",
       "    <tr>\n",
       "      <th>5083</th>\n",
       "      <td>99</td>\n",
       "      <td>Jul</td>\n",
       "      <td>31</td>\n",
       "      <td>19</td>\n",
       "      <td>5.35</td>\n",
       "      <td>7.90</td>\n",
       "      <td>64.0</td>\n",
       "      <td>28.1</td>\n",
       "    </tr>\n",
       "    <tr>\n",
       "      <th>5084</th>\n",
       "      <td>99</td>\n",
       "      <td>Jul</td>\n",
       "      <td>31</td>\n",
       "      <td>20</td>\n",
       "      <td>5.43</td>\n",
       "      <td>8.14</td>\n",
       "      <td>64.9</td>\n",
       "      <td>26.4</td>\n",
       "    </tr>\n",
       "    <tr>\n",
       "      <th>5085</th>\n",
       "      <td>99</td>\n",
       "      <td>Jul</td>\n",
       "      <td>31</td>\n",
       "      <td>21</td>\n",
       "      <td>5.85</td>\n",
       "      <td>8.16</td>\n",
       "      <td>64.7</td>\n",
       "      <td>26.1</td>\n",
       "    </tr>\n",
       "    <tr>\n",
       "      <th>5086</th>\n",
       "      <td>99</td>\n",
       "      <td>Jul</td>\n",
       "      <td>31</td>\n",
       "      <td>22</td>\n",
       "      <td>6.54</td>\n",
       "      <td>9.03</td>\n",
       "      <td>61.2</td>\n",
       "      <td>25.8</td>\n",
       "    </tr>\n",
       "    <tr>\n",
       "      <th>5087</th>\n",
       "      <td>99</td>\n",
       "      <td>Jul</td>\n",
       "      <td>31</td>\n",
       "      <td>23</td>\n",
       "      <td>8.09</td>\n",
       "      <td>10.33</td>\n",
       "      <td>49.7</td>\n",
       "      <td>25.3</td>\n",
       "    </tr>\n",
       "  </tbody>\n",
       "</table>\n",
       "<p>4950 rows × 8 columns</p>\n",
       "</div>"
      ],
      "text/plain": [
       "      Year Month  Day  Hour  vel1   vel2   dir  Temp\n",
       "0       99   Jan    1     0  6.20   7.40  92.6  -4.9\n",
       "1       99   Jan    1     1  6.86   7.78  86.0  -4.2\n",
       "2       99   Jan    1     2  7.50   8.50  86.3  -3.7\n",
       "3       99   Jan    1     3  7.43   8.42  91.9  -3.8\n",
       "4       99   Jan    1     4  7.64   8.61  89.5  -4.1\n",
       "...    ...   ...  ...   ...   ...    ...   ...   ...\n",
       "5083    99   Jul   31    19  5.35   7.90  64.0  28.1\n",
       "5084    99   Jul   31    20  5.43   8.14  64.9  26.4\n",
       "5085    99   Jul   31    21  5.85   8.16  64.7  26.1\n",
       "5086    99   Jul   31    22  6.54   9.03  61.2  25.8\n",
       "5087    99   Jul   31    23  8.09  10.33  49.7  25.3\n",
       "\n",
       "[4950 rows x 8 columns]"
      ]
     },
     "execution_count": 31,
     "metadata": {},
     "output_type": "execute_result"
    }
   ],
   "source": [
    "dataWind"
   ]
  },
  {
   "cell_type": "markdown",
   "metadata": {
    "colab_type": "text",
    "id": "YBBsvC_tIOwa"
   },
   "source": [
    "Los Campos del registro se enumeran de la siguiente manera:\n",
    "\n",
    "| Altura $z$, (m)  | Direccion (deg)   | Velocidad (m/s)   |   Tiempo Decimal          |\n",
    "|:-----------------|:-----------------:|:-----------------:|--------------------------:|\n",
    "| $10\\, m $        | _Dir1_            | _Vel1_            |  $ \\frac{ time}{ 60*24 } $|\n",
    "| $40\\, m$         | _Dir2_            | _Vel2_            |  $ \\frac{ time}{ 60*24 } $|\n",
    "\n"
   ]
  },
  {
   "cell_type": "markdown",
   "metadata": {
    "colab_type": "text",
    "id": "D7aZvMKFIOwb"
   },
   "source": [
    "A partir del método ```keys()``` podemos conocer la organización de los datos del registro."
   ]
  },
  {
   "cell_type": "code",
   "execution_count": 32,
   "metadata": {
    "colab": {},
    "colab_type": "code",
    "id": "1epth3yaIOwb",
    "outputId": "7cda852c-4338-4711-adec-21d4a6709b34"
   },
   "outputs": [
    {
     "data": {
      "text/plain": [
       "Index(['Year', 'Month', 'Day', 'Hour', 'vel1', 'vel2', 'dir', 'Temp'], dtype='object')"
      ]
     },
     "execution_count": 32,
     "metadata": {},
     "output_type": "execute_result"
    }
   ],
   "source": [
    "dataWind.keys()"
   ]
  },
  {
   "cell_type": "markdown",
   "metadata": {
    "colab_type": "text",
    "id": "KEuoWERdIOwe"
   },
   "source": [
    "Graficación  de las medidas de velocidad para las dos alturas disponibles $\\text{Vel1}\\rightarrow z = 10\\; m$ y $\\text{Vel2} \\rightarrow  z = 40\\;m$. "
   ]
  },
  {
   "cell_type": "code",
   "execution_count": 33,
   "metadata": {
    "colab": {},
    "colab_type": "code",
    "id": "B_lwIZ-3IOwe",
    "outputId": "ce2753a5-a695-4dd1-d3a8-8b5b56db5add"
   },
   "outputs": [
    {
     "data": {
      "image/png": "[encoded data removed]",
      "text/plain": [
       "<Figure size 432x288 with 1 Axes>"
      ]
     },
     "metadata": {
      "needs_background": "light"
     },
     "output_type": "display_data"
    }
   ],
   "source": [
    "\n",
    "dataWind[{'vel1','vel2'}].plot(grid=True);"
   ]
  },
  {
   "cell_type": "markdown",
   "metadata": {
    "colab_type": "text",
    "id": "llMFXaWEIOwg"
   },
   "source": [
    "Podemos ver que hay valores que llegan a 100, estos deben de ser flitrados.\n",
    "El desplazamineto que se observa entre las dos gráficas se debe al corte del viento, que es producido por la fricción del fluido con la rugosidad del terreno"
   ]
  },
  {
   "cell_type": "code",
   "execution_count": null,
   "metadata": {
    "colab": {},
    "colab_type": "code",
    "id": "B_lwIZ-3IOwe",
    "outputId": "ce2753a5-a695-4dd1-d3a8-8b5b56db5add"
   },
   "outputs": [],
   "source": []
  },
  {
   "cell_type": "markdown",
   "metadata": {
    "colab_type": "text",
    "id": "llMFXaWEIOwg"
   },
   "source": []
  },
  {
   "cell_type": "markdown",
   "metadata": {
    "colab_type": "text",
    "id": "30AGWO2BIOwh"
   },
   "source": [
    "Si bien la media aritmética no es un valor exacto de la medida, pero puede ser usado como un indicador de lo dicho. Para $z = 10\\;m$. Para su cálculo de sigue, $$\\left< v \\right> = \\frac{1}{N} \\sum\\limits_{i=0}^{N} x_i \\tag{1}$$"
   ]
  },
  {
   "cell_type": "code",
   "execution_count": 34,
   "metadata": {
    "colab": {},
    "colab_type": "code",
    "id": "qISg9I0WIOwh",
    "outputId": "7a39542b-4d6e-43f8-9fbc-ea879d2b275f"
   },
   "outputs": [
    {
     "data": {
      "text/plain": [
       "6.516903030303034"
      ]
     },
     "execution_count": 34,
     "metadata": {},
     "output_type": "execute_result"
    }
   ],
   "source": [
    "np.mean(dataWind['vel1'])"
   ]
  },
  {
   "cell_type": "code",
   "execution_count": 35,
   "metadata": {
    "colab": {},
    "colab_type": "code",
    "id": "O0_23JzTIOwj",
    "outputId": "9206c1e7-0669-469e-ef95-90dfc70a2f8c"
   },
   "outputs": [
    {
     "name": "stdout",
     "output_type": "stream",
     "text": [
      "<v1> = 6.52 m/s\n"
     ]
    }
   ],
   "source": [
    "print('<v1> = %.2f m/s' % (dataWind['vel1'].mean()))"
   ]
  },
  {
   "cell_type": "code",
   "execution_count": 36,
   "metadata": {
    "colab": {},
    "colab_type": "code",
    "id": "0EJnd7psIOwl",
    "outputId": "028225d0-9c7d-4392-d23f-839dbfe7fe3f"
   },
   "outputs": [
    {
     "name": "stdout",
     "output_type": "stream",
     "text": [
      "<v2> = 7.82 m/s\n"
     ]
    }
   ],
   "source": [
    "print('<v2> = %.2f m/s' % (dataWind['vel2'].mean()))"
   ]
  },
  {
   "cell_type": "markdown",
   "metadata": {
    "colab_type": "text",
    "id": "LWILwVm9IOwn"
   },
   "source": [
    "Un aerogenerador convencional el movimiento del rotor arranca a partir de 4-5 m/s, por lo tanto a tenor de las medias obtenidas tiene sentido continuar con el análisis.\n",
    "No menos importante es la desviación de la velocidad respecto al valor medio. Esto da una idea del grado de agitación que tiene el viento . Esta medida la relacionamos con la desviación estándar de la muestra. $$\\sigma = \\sqrt{\\frac{1}{N} \\sum\\limits_{i=0}^{N} \\left(x_i - \\left<v\\right>\\right)^2 } \\tag{2}$$"
   ]
  },
  {
   "cell_type": "code",
   "execution_count": 37,
   "metadata": {
    "colab": {},
    "colab_type": "code",
    "id": "CGjBOmPmIOwn",
    "outputId": "81b7d15c-7190-4188-e2eb-4408af92fdb4"
   },
   "outputs": [
    {
     "data": {
      "text/plain": [
       "2.9621565043483833"
      ]
     },
     "execution_count": 37,
     "metadata": {},
     "output_type": "execute_result"
    }
   ],
   "source": [
    "np.std(dataWind['vel1'])"
   ]
  },
  {
   "cell_type": "code",
   "execution_count": 38,
   "metadata": {
    "colab": {},
    "colab_type": "code",
    "id": "qUJZNhTgIOwo",
    "outputId": "cb1b4fca-6a83-457b-9ec4-c8a780ddc15e"
   },
   "outputs": [
    {
     "name": "stdout",
     "output_type": "stream",
     "text": [
      "sigma = 2.96 m/s\n"
     ]
    }
   ],
   "source": [
    "print('sigma = {:.2f} m/s'.format(dataWind['vel1'].std()))"
   ]
  },
  {
   "cell_type": "markdown",
   "metadata": {
    "colab_type": "text",
    "id": "OFyY43ipIOwq"
   },
   "source": [
    "La relación entre $\\sigma$ y $\\left<v\\right>$ define el **Índice de turbulencia** \n",
    "$$I = \\frac{\\sigma}{\\left< v \\right>}\\% \\tag{3}$$\n",
    "\n",
    "Su valor se expresa en tanto porcentual\n",
    "Es interesante conocer este dato para predecir el grado de robustez que debe tener la estructura mecánica del generador."
   ]
  },
  {
   "cell_type": "code",
   "execution_count": 39,
   "metadata": {
    "colab": {},
    "colab_type": "code",
    "id": "oRKmLK0pIOwr",
    "outputId": "2ad2cb06-d7f1-4957-b703-3e6e362ac952"
   },
   "outputs": [
    {
     "name": "stdout",
     "output_type": "stream",
     "text": [
      "I = 45.46\n"
     ]
    }
   ],
   "source": [
    "print('I = %.2f' % (dataWind['vel1'].std()/dataWind['vel1'].mean()*100.))"
   ]
  },
  {
   "cell_type": "code",
   "execution_count": 40,
   "metadata": {
    "colab": {},
    "colab_type": "code",
    "id": "z3-TY4AdIOws",
    "outputId": "f03e5cc9-cfe4-4c56-86dd-29b8aca75375"
   },
   "outputs": [
    {
     "data": {
      "text/plain": [
       "4950"
      ]
     },
     "execution_count": 40,
     "metadata": {},
     "output_type": "execute_result"
    }
   ],
   "source": [
    "N = len(dataWind['vel1'])\n",
    "N"
   ]
  },
  {
   "cell_type": "code",
   "execution_count": 41,
   "metadata": {
    "colab": {},
    "colab_type": "code",
    "id": "VYxNfrryIOwu",
    "outputId": "aa5ce05a-4774-4c42-f17a-f18e4bd602e1"
   },
   "outputs": [
    {
     "data": {
      "text/plain": [
       "2.962156504348385"
      ]
     },
     "execution_count": 41,
     "metadata": {},
     "output_type": "execute_result"
    }
   ],
   "source": [
    "sigma1 = np.sqrt(np.sum((dataWind['vel1']-np.mean(dataWind['vel1']))**2)/N)\n",
    "sigma1"
   ]
  },
  {
   "cell_type": "code",
   "execution_count": 42,
   "metadata": {
    "colab": {},
    "colab_type": "code",
    "id": "yKbzeyRDIOww",
    "outputId": "dca239a4-c518-4acd-a8d5-69db4fbdc531"
   },
   "outputs": [
    {
     "data": {
      "text/plain": [
       "6.516903030303034"
      ]
     },
     "execution_count": 42,
     "metadata": {},
     "output_type": "execute_result"
    }
   ],
   "source": [
    "vmean1 = np.mean(dataWind['vel1'])\n",
    "vmean1"
   ]
  },
  {
   "cell_type": "code",
   "execution_count": 43,
   "metadata": {
    "colab": {},
    "colab_type": "code",
    "id": "8MUghq2_IOwy",
    "outputId": "d5e0800c-06ac-4090-d902-fc7cea381f93"
   },
   "outputs": [
    {
     "data": {
      "text/plain": [
       "45.45343839818721"
      ]
     },
     "execution_count": 43,
     "metadata": {},
     "output_type": "execute_result"
    }
   ],
   "source": [
    "Ind1 = sigma1/vmean1*100\n",
    "Ind1"
   ]
  },
  {
   "cell_type": "markdown",
   "metadata": {
    "colab_type": "text",
    "id": "0Xh_Iy0YIOw1"
   },
   "source": [
    "La longitud de la serie analizada es:"
   ]
  },
  {
   "cell_type": "code",
   "execution_count": 44,
   "metadata": {
    "colab": {},
    "colab_type": "code",
    "id": "xj1ksX4XIOw1",
    "outputId": "dbc158d7-93ee-498f-e34c-8c4a2cbf8f91"
   },
   "outputs": [
    {
     "name": "stdout",
     "output_type": "stream",
     "text": [
      "4950\n"
     ]
    }
   ],
   "source": [
    "N = len(dataWind)\n",
    "print(N)"
   ]
  },
  {
   "cell_type": "markdown",
   "metadata": {
    "colab_type": "text",
    "id": "ex_AiG7lIOw3"
   },
   "source": [
    "Las medidas han sido tomadas una vez cada hora."
   ]
  },
  {
   "cell_type": "code",
   "execution_count": 45,
   "metadata": {
    "colab": {},
    "colab_type": "code",
    "id": "sqk4o-McIOw3",
    "outputId": "16670b62-c1ee-4def-d575-220558034caa"
   },
   "outputs": [
    {
     "data": {
      "text/plain": [
       "0       0\n",
       "1       1\n",
       "2       2\n",
       "3       3\n",
       "4       4\n",
       "5       5\n",
       "6       6\n",
       "7       7\n",
       "8       8\n",
       "106    10\n",
       "Name: Hour, dtype: int64"
      ]
     },
     "execution_count": 45,
     "metadata": {},
     "output_type": "execute_result"
    }
   ],
   "source": [
    "dataWind['Hour'][:10]"
   ]
  },
  {
   "cell_type": "code",
   "execution_count": 46,
   "metadata": {
    "colab": {},
    "colab_type": "code",
    "id": "-mMGGFGNIOw5",
    "outputId": "3762a9ac-c0ca-4784-af0f-5b06d7dfc397"
   },
   "outputs": [],
   "source": [
    "#dataWind['t'][:10]"
   ]
  },
  {
   "cell_type": "code",
   "execution_count": 47,
   "metadata": {
    "colab": {},
    "colab_type": "code",
    "id": "eEuFEV1DIOw7",
    "outputId": "efddeed1-798d-4c00-e050-0faca6a19edc"
   },
   "outputs": [],
   "source": [
    "#dataWind['t'][:10].diff().mean()*60*24"
   ]
  },
  {
   "cell_type": "code",
   "execution_count": 48,
   "metadata": {
    "colab": {},
    "colab_type": "code",
    "id": "vqR4kSzXIOw8",
    "outputId": "b9d018c3-7134-4dc1-a0f8-4376ba0bbd94"
   },
   "outputs": [],
   "source": [
    "#np.mean(np.diff(dataWind['t'][:10]))*60*24"
   ]
  },
  {
   "cell_type": "markdown",
   "metadata": {
    "colab_type": "text",
    "id": "wVCU8qsBIOw-"
   },
   "source": [
    "### Valores máximos y mínimos de la velocidad"
   ]
  },
  {
   "cell_type": "markdown",
   "metadata": {
    "colab_type": "text",
    "id": "oXQ-nz4JIOw-"
   },
   "source": [
    "Los valores máximos y mínimos de la serie analizada son:"
   ]
  },
  {
   "cell_type": "markdown",
   "metadata": {
    "colab_type": "text",
    "id": "3yMerhf_IOw_"
   },
   "source": [
    "Altura $z=10\\,m$"
   ]
  },
  {
   "cell_type": "code",
   "execution_count": 49,
   "metadata": {
    "colab": {},
    "colab_type": "code",
    "id": "QMmZGeVhIOxA",
    "outputId": "74e76580-314d-4080-b0d1-fb69367c7770"
   },
   "outputs": [
    {
     "name": "stdout",
     "output_type": "stream",
     "text": [
      "v max, m/s: 19.15\n",
      "v min, m/s: 0.36\n"
     ]
    }
   ],
   "source": [
    "print('v max, m/s: %.2f' % (dataWind['vel1'].max()))\n",
    "print('v min, m/s: %.2f' % (dataWind['vel1'].min()))\n"
   ]
  },
  {
   "cell_type": "markdown",
   "metadata": {
    "colab_type": "text",
    "id": "1rw0nowNIOxC"
   },
   "source": [
    "Altura $z=40\\,m$"
   ]
  },
  {
   "cell_type": "markdown",
   "metadata": {
    "colab_type": "text",
    "id": "oXQ-nz4JIOw-"
   },
   "source": [
    "La v min en nuestro caso es diferente de 0m/s, lo que no habría tenido sentido pues es realmente raro que en un momento no haya velocidad del viento. Que indicara un 0 podría significar que el sensor se ha bloqueado de alguna manera, pero no es nuestro caso."
   ]
  },
  {
   "cell_type": "code",
   "execution_count": 50,
   "metadata": {
    "colab": {},
    "colab_type": "code",
    "id": "htTCtJ77IOxC",
    "outputId": "9e59a268-8d60-4e7d-f353-436912b5a85f"
   },
   "outputs": [
    {
     "name": "stdout",
     "output_type": "stream",
     "text": [
      "v max, m/s: 21.80\n",
      "v min, m/s: 0.36\n"
     ]
    }
   ],
   "source": [
    "print('v max, m/s: %.2f' % (dataWind['vel2'].max()))\n",
    "print('v min, m/s: %.2f' % (dataWind['vel2'].min()))\n"
   ]
  },
  {
   "cell_type": "markdown",
   "metadata": {
    "colab_type": "text",
    "id": "1O9lFIjGIOxE"
   },
   "source": [
    "### Analisis del Corte del Viento"
   ]
  },
  {
   "cell_type": "markdown",
   "metadata": {
    "colab_type": "text",
    "id": "5DATZV_SIOxE"
   },
   "source": [
    "Es importante reconocer valores que no se corresponden con las lecturas esperadas para los rangos de velocidades de la región. Este tipo de valores no esperados pueden ser debidos a fallos en los registros, formaciones de hielo en los sensores que impiden su medidas o perdidas de medidas por otros motivos medioambientales: posamiento de aves, depósito de elementos vegetales, etc."
   ]
  },
  {
   "cell_type": "markdown",
   "metadata": {
    "colab_type": "text",
    "id": "iRJw3zOMIOxE"
   },
   "source": [
    "Ley Potencial de la ABL\n",
    "\n",
    "$$v_{max,2} = v_{max,1} \\left(\\frac{z_2}{z_1}\\right)^{1/a}$$ "
   ]
  },
  {
   "cell_type": "markdown",
   "metadata": {
    "colab_type": "text",
    "id": "u-sGHoY3IOxF"
   },
   "source": [
    "Expresión de cálculo de $a$,\n",
    "$$\\log\\left(\\frac{v_{max,2}}{v_{max,1}}\\right) = \\frac{1}{a} \\log\\left(\\frac{z_2}{z_1}\\right)$$ \n",
    "$$a = \\frac{ \\log\\left(\\frac{z_2}{z_1}\\right)}{\\log\\left(\\frac{v_{max,2}}{v_{max,1}}\\right)}$$ "
   ]
  },
  {
   "cell_type": "code",
   "execution_count": 51,
   "metadata": {
    "colab": {},
    "colab_type": "code",
    "id": "Uekbb3l6IOxF"
   },
   "outputs": [],
   "source": [
    "z1,z2 = 10,40 # m "
   ]
  },
  {
   "cell_type": "markdown",
   "metadata": {
    "colab_type": "text",
    "id": "ml4Dki4gIOxG"
   },
   "source": [
    "Usamos los 1000 primeros valores de la medida porque como se puede ver en la representación de los datos en el primer diagrama de representaciín de los mismo, estos varían mucho más entre los 3.000 y 5.000 últimos datos que al principio, eso podría deformar la capa límite. A priori, parece que los primeros datos representan mejor la realidad. Ahora bien, este caso no es tan marcado como  en el ejemplo de la práctica y aquí los datos parecen estar más cerca de la idea de una velocidad constante, es decir, a la idea de la capa límite."
   ]
  },
  {
   "cell_type": "code",
   "execution_count": 52,
   "metadata": {
    "colab": {},
    "colab_type": "code",
    "id": "i9MT4Du_IOxH"
   },
   "outputs": [],
   "source": [
    "vz1_ave = dataWind['vel1'][:999].mean()\n",
    "vz2_ave = dataWind['vel2'][:999].mean()"
   ]
  },
  {
   "cell_type": "code",
   "execution_count": 53,
   "metadata": {
    "colab": {},
    "colab_type": "code",
    "id": "p-a4qvygIOxI"
   },
   "outputs": [],
   "source": [
    "a = np.log(z2/z1)/np.log(vz2_ave/vz1_ave)"
   ]
  },
  {
   "cell_type": "code",
   "execution_count": 54,
   "metadata": {
    "colab": {},
    "colab_type": "code",
    "id": "zncTGI8bIOxK",
    "outputId": "1c685120-1eb6-47c8-ff93-a35561a96c6c"
   },
   "outputs": [
    {
     "name": "stdout",
     "output_type": "stream",
     "text": [
      "Coeficiente de territorio, alpha = 6.44\n",
      "El valor obtenido indica que el estudio del viento se ha realizado en un territorio correspondiente a una llanura despejada\n"
     ]
    }
   ],
   "source": [
    "print('Coeficiente de territorio, alpha = {:.2f}'.format(a))"
   ]
  },
  {
   "cell_type": "markdown",
   "metadata": {
    "colab_type": "text",
    "id": "ml4Dki4gIOxG"
   },
   "source": [
    "En este caso no sabemos de donde es este registro. Vamos a suponer que el registro proviene también de la estación meteorológica de la Universidad Técnica de Dinamarca, de la misma forma que el usado en la práctica. Podemos ver que el coeficiente de territorio dista en un 25% respecto del de la práctica, aun así es del mismo orden de magnitud. Si conocieramos el origen de estos datos y pudieramos comparar con otros coeficientes de territorio podriamos saber si este valor es cercano al esperado en esa zona."
   ]
  },
  {
   "cell_type": "markdown",
   "metadata": {
    "colab_type": "text",
    "id": "_W4HGKWFIOxM"
   },
   "source": [
    "### Perfil de velocidad por el corte del viento"
   ]
  },
  {
   "cell_type": "code",
   "execution_count": 55,
   "metadata": {
    "colab": {},
    "colab_type": "code",
    "id": "jQCx4jl0IOxM"
   },
   "outputs": [],
   "source": [
    "ABLPotencial = lambda z : v10 * (z/z10)**(1/a)"
   ]
  },
  {
   "cell_type": "code",
   "execution_count": 56,
   "metadata": {
    "colab": {},
    "colab_type": "code",
    "id": "psWtQpZZIOxO"
   },
   "outputs": [],
   "source": [
    "z = np.linspace(0,150,150)\n",
    "z10 = z1\n",
    "v10 = dataWind['vel1'].mean()"
   ]
  },
  {
   "cell_type": "code",
   "execution_count": 57,
   "metadata": {
    "colab": {},
    "colab_type": "code",
    "id": "s-0uytTqIOxP"
   },
   "outputs": [],
   "source": [
    "a = 6.33"
   ]
  },
  {
   "cell_type": "markdown",
   "metadata": {
    "colab_type": "raw",
    "id": "iv7GWqKvIOxR"
   },
   "source": [
    "a = 6"
   ]
  },
  {
   "cell_type": "markdown",
   "metadata": {
    "colab_type": "text",
    "id": "IUaL5Ga8IOxR"
   },
   "source": [
    "Perfil de velocidad y su gradiente"
   ]
  },
  {
   "cell_type": "code",
   "execution_count": 58,
   "metadata": {
    "colab": {},
    "colab_type": "code",
    "id": "ZwqP7utuIOxR"
   },
   "outputs": [],
   "source": [
    "vABL = ABLPotencial(z)\n",
    "dvABL_dz = np.diff(vABL)/np.mean(np.diff(z)) # derivacion numerica "
   ]
  },
  {
   "cell_type": "code",
   "execution_count": 59,
   "metadata": {
    "colab": {},
    "colab_type": "code",
    "id": "jbCO8xCjIOxT",
    "outputId": "87f90211-de7b-4434-85ea-430e08ad73e9"
   },
   "outputs": [
    {
     "data": {
      "image/png": "[encoded data removed]",
      "text/plain": [
       "<Figure size 432x288 with 2 Axes>"
      ]
     },
     "metadata": {
      "needs_background": "light"
     },
     "output_type": "display_data"
    }
   ],
   "source": [
    "ax1 = plt.subplot(121)\n",
    "plt.plot(vABL,z,'--')\n",
    "plt.title('Perfil de velocidad del viento')\n",
    "plt.xlabel('V,m/s')\n",
    "plt.ylabel('z, m')\n",
    "plt.plot([0,13],[80,80],'-.')\n",
    "plt.grid()\n",
    "\n",
    "plt.subplot(122,sharey=ax1)\n",
    "plt.plot(dvABL_dz,z[:-1])\n",
    "plt.title('Gradiente del corte')\n",
    "plt.xlabel('$dV/dz$,1/s')\n",
    "#plt.ylabel('z, m')\n",
    "plt.grid()\n",
    "\n",
    "plt.show()"
   ]
  },
  {
   "cell_type": "markdown",
   "metadata": {
    "colab_type": "text",
    "id": "i9NrZGY1IOxU"
   },
   "source": [
    "En las gráficas anteriores se puede ver como varía la velocidad con la altura. Además se ha incluido la línea a los 80m indicando donde estaría un aerogenerador que suelen estar situados a 100m como mucho debido a los costes. Con el gradiente podemos ver que la pendiente varia mucho en la zona proxima al terreno mientras que a partir de los 80m ya se estabiliza. \n",
    "### Creación del histograma a partir del registro de medidas. "
   ]
  },
  {
   "cell_type": "markdown",
   "metadata": {
    "colab_type": "text",
    "id": "E6j-FFx3IOxa"
   },
   "source": [
    "Para conseguir un histograma equilibrado entre los valores máximos y mínimos de las lescturas necesitamos conocer el número de clases más adecuado. \n",
    "\n",
    "$$N_{class} = |1 + 3.3  \\log_{10} N|+1$$"
   ]
  },
  {
   "cell_type": "code",
   "execution_count": 63,
   "metadata": {
    "colab": {},
    "colab_type": "code",
    "id": "jaZ6pbApIOxa",
    "outputId": "2ea467ed-001c-4555-e07a-7bc97c643c4d"
   },
   "outputs": [
    {
     "data": {
      "text/plain": [
       "14"
      ]
     },
     "execution_count": 63,
     "metadata": {},
     "output_type": "execute_result"
    }
   ],
   "source": [
    "Nclass = int(1 + 3.3 * math.log10(N)) + 1\n",
    "Nclass"
   ]
  },
  {
   "cell_type": "markdown",
   "metadata": {
    "colab_type": "text",
    "id": "tmVDh3afIOxc"
   },
   "source": [
    "Histograma de la velocidad $V_{10}$. Lo primero que resalta en este histograma es el hechoo de que la media no coincide con el valor más común del histograma. Según el histograma nuestro valor debería ser mucho más cercano a 6. La mediana se acerca más a esta idea, pues está entorno a 6."
   ]
  },
  {
   "cell_type": "code",
   "execution_count": 64,
   "metadata": {
    "colab": {},
    "colab_type": "code",
    "id": "EcSxWR6HIOxd",
    "outputId": "e13b7794-38d4-4ae7-c11e-dd2899f7c0e1"
   },
   "outputs": [
    {
     "data": {
      "text/plain": [
       "6.516903030303034"
      ]
     },
     "execution_count": 64,
     "metadata": {},
     "output_type": "execute_result"
    }
   ],
   "source": [
    "dataWind['vel1'].mean()"
   ]
  },
  {
   "cell_type": "code",
   "execution_count": 65,
   "metadata": {
    "colab": {},
    "colab_type": "code",
    "id": "8l3L0wV4IOxg",
    "outputId": "e53eace1-4b8a-455d-fa0c-94d15668dea9"
   },
   "outputs": [
    {
     "data": {
      "text/plain": [
       "6.015"
      ]
     },
     "execution_count": 65,
     "metadata": {},
     "output_type": "execute_result"
    }
   ],
   "source": [
    "dataWind['vel1'].median()"
   ]
  },
  {
   "cell_type": "code",
   "execution_count": 66,
   "metadata": {
    "colab": {},
    "colab_type": "code",
    "id": "ZpUVpWqgIOxj",
    "outputId": "85d45d21-caf4-44bd-871f-4793dcc03bfe"
   },
   "outputs": [
    {
     "data": {
      "image/png": "[encoded data removed]",
      "text/plain": [
       "<Figure size 432x288 with 1 Axes>"
      ]
     },
     "metadata": {
      "needs_background": "light"
     },
     "output_type": "display_data"
    }
   ],
   "source": [
    "dataWind['vel1'].hist(bins=Nclass);"
   ]
  },
  {
   "cell_type": "markdown",
   "metadata": {
    "colab_type": "text",
    "id": "YgjUSkK4IOxl"
   },
   "source": [
    "Histograma de la velocidad $V_{40}$"
   ]
  },
  {
   "cell_type": "code",
   "execution_count": 67,
   "metadata": {
    "colab": {},
    "colab_type": "code",
    "id": "5eVxxtRuIOxl",
    "outputId": "4f481d60-f3af-4f83-c60a-8d934811c0b1"
   },
   "outputs": [
    {
     "data": {
      "text/plain": [
       "7.819042424242407"
      ]
     },
     "execution_count": 67,
     "metadata": {},
     "output_type": "execute_result"
    }
   ],
   "source": [
    "dataWind['vel2'].mean()"
   ]
  },
  {
   "cell_type": "code",
   "execution_count": 68,
   "metadata": {
    "colab": {},
    "colab_type": "code",
    "id": "mOqB7zxUIOxn",
    "outputId": "ce10c22b-16f6-4df4-cb9a-03a3b546eb25"
   },
   "outputs": [
    {
     "data": {
      "text/plain": [
       "7.62"
      ]
     },
     "execution_count": 68,
     "metadata": {},
     "output_type": "execute_result"
    }
   ],
   "source": [
    "dataWind['vel2'].median()"
   ]
  },
  {
   "cell_type": "code",
   "execution_count": 69,
   "metadata": {
    "colab": {},
    "colab_type": "code",
    "id": "e9eLQtgnIOxo",
    "outputId": "01f837f7-c5e9-4e41-bc2e-233720d82bad"
   },
   "outputs": [
    {
     "data": {
      "image/png": "[encoded data removed]",
      "text/plain": [
       "<Figure size 432x288 with 1 Axes>"
      ]
     },
     "metadata": {
      "needs_background": "light"
     },
     "output_type": "display_data"
    }
   ],
   "source": [
    "dataWind['vel2'].hist(bins=Nclass);"
   ]
  },
  {
   "cell_type": "markdown",
   "metadata": {
    "colab_type": "text",
    "id": "ZRgZvBurIOxq"
   },
   "source": [
    "Si superponemos ambos histogramas veremos el cierto parecido entre ambos pero al mismo tiempo el corrimiento en las $V_{10}$ y $V_{30}$ debido al efecto de la ABL, _Atmospheric Boundary Layer_."
   ]
  },
  {
   "cell_type": "code",
   "execution_count": 70,
   "metadata": {
    "colab": {},
    "colab_type": "code",
    "id": "EOjHQuHiIOxq",
    "outputId": "faf6b5e3-3caa-46e4-e7f9-cf27eae3dfa9"
   },
   "outputs": [
    {
     "data": {
      "image/png": "[encoded data removed]",
      "text/plain": [
       "<Figure size 432x288 with 1 Axes>"
      ]
     },
     "metadata": {
      "needs_background": "light"
     },
     "output_type": "display_data"
    }
   ],
   "source": [
    "dataWind['vel1'].hist(bins=Nclass)\n",
    "dataWind['vel2'].hist(bins=Nclass);"
   ]
  },
  {
   "cell_type": "markdown",
   "metadata": {
    "colab_type": "text",
    "id": "VIq5_v8IIOxr"
   },
   "source": [
    "### Vectorización de los datos"
   ]
  },
  {
   "cell_type": "markdown",
   "metadata": {
    "colab_type": "text",
    "id": "KpUp-A1OIOxr"
   },
   "source": [
    "Para la identificación de los parámetros de Weibull, es conveniente trabajar sobre las medidas con  formato de vectores. "
   ]
  },
  {
   "cell_type": "code",
   "execution_count": 71,
   "metadata": {
    "colab": {},
    "colab_type": "code",
    "id": "r7tIIgKOIOxt"
   },
   "outputs": [],
   "source": [
    "u1 = np.array(dataWind['vel1'])\n",
    "u2 = np.array(dataWind['vel2'])"
   ]
  },
  {
   "cell_type": "code",
   "execution_count": 72,
   "metadata": {
    "colab": {},
    "colab_type": "code",
    "id": "zhNsNufnIOxu",
    "outputId": "d33e0fe2-0f3c-4d23-bfd5-37ce4aea01e3"
   },
   "outputs": [
    {
     "data": {
      "text/plain": [
       "array([6.2 , 6.86, 7.5 , ..., 5.85, 6.54, 8.09])"
      ]
     },
     "execution_count": 72,
     "metadata": {},
     "output_type": "execute_result"
    }
   ],
   "source": [
    "u1"
   ]
  },
  {
   "cell_type": "code",
   "execution_count": 73,
   "metadata": {
    "colab": {},
    "colab_type": "code",
    "id": "nfE08AfpIOxw",
    "outputId": "ab505aa7-426e-48fa-face-b49c343ea739"
   },
   "outputs": [
    {
     "data": {
      "text/plain": [
       "array([ 7.4 ,  7.78,  8.5 , ...,  8.16,  9.03, 10.33])"
      ]
     },
     "execution_count": 73,
     "metadata": {},
     "output_type": "execute_result"
    }
   ],
   "source": [
    "u2"
   ]
  },
  {
   "cell_type": "markdown",
   "metadata": {
    "colab_type": "text",
    "id": "sLZchPR2IOxy"
   },
   "source": [
    "A partir de funciones integradas dentro del paquete [numpy](https://numpy.org/) se pueden obtener los vectores de las clases y las frecuencias de la medida de las mismas. "
   ]
  },
  {
   "cell_type": "markdown",
   "metadata": {
    "colab_type": "text",
    "id": "pTQbyrq9IOxy"
   },
   "source": [
    "Se obtiene los valores de histograma y las posiciones (velocidad) centradas en cada una de las clases."
   ]
  },
  {
   "cell_type": "code",
   "execution_count": 74,
   "metadata": {
    "colab": {},
    "colab_type": "code",
    "id": "HEgFx3RTIOxz"
   },
   "outputs": [],
   "source": [
    "u1hist,u1nclass = np.histogram(u1,bins=Nclass,range=(u1.min()+0.5,u1.max()))\n",
    "u2hist,u2nclass = np.histogram(u2,bins=Nclass,range=(u2.min()+0.5,u2.max()))"
   ]
  },
  {
   "cell_type": "markdown",
   "metadata": {
    "colab_type": "text",
    "id": "sFWtjWpuIOx0"
   },
   "source": [
    "Como ejemplo:"
   ]
  },
  {
   "cell_type": "code",
   "execution_count": 75,
   "metadata": {
    "colab": {},
    "colab_type": "code",
    "id": "LjnQUXfUIOx1",
    "outputId": "9ddf8e0a-a58d-4b83-f854-32c9396f8477"
   },
   "outputs": [
    {
     "data": {
      "text/plain": [
       "(array([142, 432, 926, 997, 777, 580, 436, 268, 170,  94,  47,  26,   8,\n",
       "         11]),\n",
       " array([ 0.86      ,  2.16642857,  3.47285714,  4.77928571,  6.08571429,\n",
       "         7.39214286,  8.69857143, 10.005     , 11.31142857, 12.61785714,\n",
       "        13.92428571, 15.23071429, 16.53714286, 17.84357143, 19.15      ]))"
      ]
     },
     "execution_count": 75,
     "metadata": {},
     "output_type": "execute_result"
    }
   ],
   "source": [
    "u1hist,u1nclass"
   ]
  },
  {
   "cell_type": "code",
   "execution_count": 76,
   "metadata": {
    "colab": {},
    "colab_type": "code",
    "id": "zxvPslhwIOx4",
    "outputId": "1d089e99-c92d-4bc7-9ab2-755b27fd88c2"
   },
   "outputs": [
    {
     "data": {
      "text/plain": [
       "14"
      ]
     },
     "execution_count": 76,
     "metadata": {},
     "output_type": "execute_result"
    }
   ],
   "source": [
    "u1hist.size"
   ]
  },
  {
   "cell_type": "code",
   "execution_count": 77,
   "metadata": {
    "colab": {},
    "colab_type": "code",
    "id": "jUJHk-nhIOx5",
    "outputId": "908bd7ac-de92-4c97-874d-f703971891f6"
   },
   "outputs": [
    {
     "data": {
      "text/plain": [
       "15"
      ]
     },
     "execution_count": 77,
     "metadata": {},
     "output_type": "execute_result"
    }
   ],
   "source": [
    "u1nclass.size"
   ]
  },
  {
   "cell_type": "code",
   "execution_count": 78,
   "metadata": {
    "colab": {},
    "colab_type": "code",
    "id": "J43UnqUZIOx6",
    "outputId": "f9e01dbc-8da3-48db-df5c-a71d782279df"
   },
   "outputs": [
    {
     "data": {
      "text/plain": [
       "array([ 0.86      ,  2.35571429,  3.85142857,  5.34714286,  6.84285714,\n",
       "        8.33857143,  9.83428571, 11.33      , 12.82571429, 14.32142857,\n",
       "       15.81714286, 17.31285714, 18.80857143, 20.30428571, 21.8       ])"
      ]
     },
     "execution_count": 78,
     "metadata": {},
     "output_type": "execute_result"
    }
   ],
   "source": [
    "u2nclass"
   ]
  },
  {
   "cell_type": "markdown",
   "metadata": {
    "colab_type": "text",
    "id": "oiWehBttIOx8"
   },
   "source": [
    "De nuevo vemos que el histograma presenta la distribución presentada en la figura anterior, obetenida dirctamente a través de los métodos de la clase <span STYLE=\"font-family: courier\">pandas</span>."
   ]
  },
  {
   "cell_type": "code",
   "execution_count": 79,
   "metadata": {
    "colab": {},
    "colab_type": "code",
    "id": "LqZJ14GxIOx8",
    "outputId": "fdcb7c1d-8cf5-4d3e-ea9c-f3253c2668f6"
   },
   "outputs": [
    {
     "data": {
      "text/plain": [
       "array([ 0,  1,  2,  3,  4,  5,  6,  7,  8,  9, 10, 11, 12, 13])"
      ]
     },
     "execution_count": 79,
     "metadata": {},
     "output_type": "execute_result"
    }
   ],
   "source": [
    "np.arange(Nclass)"
   ]
  },
  {
   "cell_type": "markdown",
   "metadata": {
    "colab_type": "raw",
    "id": "2DieiCysIOx9"
   },
   "source": [
    "plt.bar(np.arange(Nclass),u1hist,label='u1')\n",
    "plt.bar(np.arange(Nclass),u2hist,label='u2')\n",
    "plt.legend()\n",
    "plt.show()"
   ]
  },
  {
   "cell_type": "code",
   "execution_count": 80,
   "metadata": {
    "colab": {},
    "colab_type": "code",
    "id": "hd9sLuJ4IOx9",
    "outputId": "cc337d1e-5fba-4efa-d202-6eb432ff9808"
   },
   "outputs": [
    {
     "data": {
      "image/png": "[encoded data removed]",
      "text/plain": [
       "<Figure size 432x288 with 1 Axes>"
      ]
     },
     "metadata": {
      "needs_background": "light"
     },
     "output_type": "display_data"
    }
   ],
   "source": [
    "plt.bar(u1nclass[:-1],u1hist,label='u1')\n",
    "plt.bar(u2nclass[:-1],u2hist,label='u2')\n",
    "plt.legend()\n",
    "plt.show()"
   ]
  },
  {
   "cell_type": "markdown",
   "metadata": {
    "colab_type": "text",
    "id": "72V4AueQIOx_"
   },
   "source": [
    "<H2>Identificación de los parámetros de Weibull</H2>\n",
    "\n",
    "Varios métodos han sido propuestos para su identificación. Algunos de ellos tienen caracter púramente empíricos como el descrito por Lysen (1983) y otros semi-empíricos como Justus (1978).\n",
    "\n",
    "En la práctica se sigue el metodo de doble logaritmo, método de $\\textit{log-log}$, Rohatgi and Nelson (1994).\n",
    "\n",
    "Para conseguir obtener la función complemetaria de la probabilidad $$F'(v > V) = 1 - F(v \\leq V) \\tag{4}$$ es necesaria la normalización del histograma.\n",
    "\n",
    "Es por ello que se ha de tener una versión discreta numérica de la función acumulada de la distribución, definida según: $$F(v) = \\int\\limits_{0}^{v} p(v') dv' \\tag{4}$$ siendo $v'$ una variable de integración.   \n",
    "\n",
    "Se debe normalizar el histograma ya que el procedimietno seguido parte del método de la linearización logarítmica de la función de probabilidad acumulada complementaria. \n",
    "\n",
    "$$p(v) = \\frac{k}{c} \\,\\left(\\frac{v}{c}\\right)^{k - 1} e^{- \\left(\\frac{v}{c}\\right)^{k}}$$"
   ]
  },
  {
   "cell_type": "markdown",
   "metadata": {
    "colab_type": "text",
    "id": "CuOPyna6IOyA"
   },
   "source": [
    "siendo \n",
    "- $c$: parámetro de escala, $m/s$, \n",
    "- $k$: parámetro de forma, no tiene unidades"
   ]
  },
  {
   "cell_type": "markdown",
   "metadata": {
    "colab_type": "text",
    "id": "DNqWsGMlIOyA"
   },
   "source": [
    "El cálculo de parámetros resulta de la obtención de los coeficientes de regresión de la serie formada por:"
   ]
  },
  {
   "cell_type": "markdown",
   "metadata": {
    "colab_type": "text",
    "id": "ipQykE0XIOyA"
   },
   "source": [
    "![Procedimiento de cálculo](./Figs/fig01.png)"
   ]
  },
  {
   "cell_type": "markdown",
   "metadata": {
    "colab_type": "text",
    "id": "XJ4SxsGHIOyA"
   },
   "source": [
    "Método de regresión lineal sobre la disposición de los valores de la serie $(x,y)$\n",
    "\n",
    "![RegresionLineal](./Figs/fig02.png)"
   ]
  },
  {
   "cell_type": "code",
   "execution_count": 81,
   "metadata": {
    "colab": {},
    "colab_type": "code",
    "id": "2TPZrYWSIOyB",
    "outputId": "4468244e-290d-4d65-948a-335adfce412e"
   },
   "outputs": [
    {
     "data": {
      "text/plain": [
       "4914"
      ]
     },
     "execution_count": 81,
     "metadata": {},
     "output_type": "execute_result"
    }
   ],
   "source": [
    "#u1hist.sum()\n",
    "np.sum(u1hist)"
   ]
  },
  {
   "cell_type": "markdown",
   "metadata": {
    "colab_type": "text",
    "id": "cP88UC2DIOyC"
   },
   "source": [
    "Necesitamos normalizar el histograma"
   ]
  },
  {
   "cell_type": "code",
   "execution_count": 82,
   "metadata": {
    "colab": {},
    "colab_type": "code",
    "id": "REKz8jT7IOyC"
   },
   "outputs": [],
   "source": [
    "u1histNorm = u1hist/sum(u1hist)"
   ]
  },
  {
   "cell_type": "code",
   "execution_count": 83,
   "metadata": {
    "colab": {},
    "colab_type": "code",
    "id": "HzghtvuIIOyE",
    "outputId": "645be4b9-ecf1-4a04-83e7-915f1d4f20b4"
   },
   "outputs": [
    {
     "data": {
      "text/plain": [
       "(4914, 0.9999999999999998)"
      ]
     },
     "execution_count": 83,
     "metadata": {},
     "output_type": "execute_result"
    }
   ],
   "source": [
    "sum(u1hist),sum(u1histNorm)"
   ]
  },
  {
   "cell_type": "markdown",
   "metadata": {
    "colab_type": "text",
    "id": "uinIgUF3IOyG"
   },
   "source": [
    "Integración numérica $$F_M = \\sum_{j=0}^M p_j$$ para $M = [0,N]$ "
   ]
  },
  {
   "cell_type": "code",
   "execution_count": 84,
   "metadata": {
    "colab": {},
    "colab_type": "code",
    "id": "l3NbzsCJIOyG"
   },
   "outputs": [],
   "source": [
    "Fu1 = np.zeros(len(u1histNorm))\n",
    "for i in range(len(u1histNorm)-1):\n",
    "    Fu1[i+1] = Fu1[i] + u1histNorm[i]\n",
    "Fpu1 = 1 - Fu1"
   ]
  },
  {
   "cell_type": "code",
   "execution_count": 85,
   "metadata": {
    "colab": {},
    "colab_type": "code",
    "id": "7tjN1U9rIOyH",
    "outputId": "54b9503b-8a89-464f-dd78-797a91576c66"
   },
   "outputs": [
    {
     "data": {
      "image/png": "[encoded data removed]",
      "text/plain": [
       "<Figure size 432x288 with 1 Axes>"
      ]
     },
     "metadata": {
      "needs_background": "light"
     },
     "output_type": "display_data"
    }
   ],
   "source": [
    "plt.plot(u1nclass[:-1],u1histNorm,'x') # \"funcion\" de distribucion de la probabilidad \n",
    "plt.plot(u1nclass[:-1],Fu1) # funcion de probabilidad\n",
    "plt.plot(u1nclass[:-1],Fpu1) # funcion de complementaria de la probabilidad\n",
    "plt.legend(['$p(v)$','$F(v)$','$F\\'(v)$'])\n",
    "plt.xlabel('v, m/s')\n",
    "plt.ylabel('$F(v\\leq V),F\\'(v>V)$')\n",
    "plt.title('Función de Probabilidad $F(v)$ y la Complementaria $F\\'(v)$')\n",
    "plt.grid()\n",
    "plt.show()"
   ]
  },
  {
   "cell_type": "code",
   "execution_count": 86,
   "metadata": {
    "colab": {},
    "colab_type": "code",
    "id": "yBM69LffIOyI"
   },
   "outputs": [],
   "source": [
    "x = np.log(u1nclass[1:-1]) # serie x de la regresion lineal\n",
    "y = np.log(-np.log(Fpu1[1:])) # serie y de la regresion lineal"
   ]
  },
  {
   "cell_type": "code",
   "execution_count": 87,
   "metadata": {
    "colab": {},
    "colab_type": "code",
    "id": "n8M3dMRoIOyJ",
    "outputId": "9318c631-7d0f-4ee3-99c2-1bb6609fa532"
   },
   "outputs": [
    {
     "data": {
      "text/plain": [
       "array([0.77307999, 1.24497764, 1.5642911 , 1.8059441 , 2.00041766,\n",
       "       2.16315881, 2.30308497, 2.42581359, 2.53511304, 2.63363449,\n",
       "       2.72331407, 2.80560893, 2.8816433 ])"
      ]
     },
     "execution_count": 87,
     "metadata": {},
     "output_type": "execute_result"
    }
   ],
   "source": [
    "x"
   ]
  },
  {
   "cell_type": "code",
   "execution_count": 88,
   "metadata": {
    "colab": {},
    "colab_type": "code",
    "id": "TZTRFGgoIOyM",
    "outputId": "20664edb-e669-42e9-efe9-e4ec17202175"
   },
   "outputs": [
    {
     "data": {
      "text/plain": [
       "array([-3.52939094, -2.08574999, -1.01004209, -0.34310857,  0.09293649,\n",
       "        0.42776094,  0.72449719,  0.96504768,  1.18604207,  1.380793  ,\n",
       "        1.54611062,  1.71477125,  1.80860811])"
      ]
     },
     "execution_count": 88,
     "metadata": {},
     "output_type": "execute_result"
    }
   ],
   "source": [
    "y"
   ]
  },
  {
   "cell_type": "code",
   "execution_count": 89,
   "metadata": {
    "colab": {},
    "colab_type": "code",
    "id": "VQLHwDivIOyN"
   },
   "outputs": [],
   "source": [
    "p = np.polyfit(x,y,1) # ajuste a una recta"
   ]
  },
  {
   "cell_type": "markdown",
   "metadata": {
    "colab_type": "text",
    "id": "aJX-DywzIOyP"
   },
   "source": [
    "Coeficientes de la recta de regresión:"
   ]
  },
  {
   "cell_type": "code",
   "execution_count": 90,
   "metadata": {
    "colab": {},
    "colab_type": "code",
    "id": "b8yFmCZTIOyP",
    "outputId": "d91760d8-d981-4d72-e554-2affb281571b"
   },
   "outputs": [
    {
     "data": {
      "text/plain": [
       "array([ 2.4737575 , -5.08006234])"
      ]
     },
     "execution_count": 90,
     "metadata": {},
     "output_type": "execute_result"
    }
   ],
   "source": [
    "p"
   ]
  },
  {
   "cell_type": "code",
   "execution_count": 91,
   "metadata": {
    "colab": {},
    "colab_type": "code",
    "id": "jadOkw7UIOyQ"
   },
   "outputs": [],
   "source": [
    "yreg = np.polyval(p,x) # ajuste a la regresion"
   ]
  },
  {
   "cell_type": "code",
   "execution_count": 92,
   "metadata": {
    "colab": {},
    "colab_type": "code",
    "id": "H0A29R7iIOyR",
    "outputId": "11a1bcd8-55e2-4380-a0ee-1d77065e36ca"
   },
   "outputs": [
    {
     "data": {
      "image/png": "[encoded data removed]",
      "text/plain": [
       "<Figure size 432x288 with 1 Axes>"
      ]
     },
     "metadata": {
      "needs_background": "light"
     },
     "output_type": "display_data"
    }
   ],
   "source": [
    "plt.plot(x,y,'x')\n",
    "plt.plot(x,yreg,'r--x')\n",
    "plt.grid()\n",
    "plt.xlabel('$\\ln (u)$')\n",
    "plt.ylabel('$\\ln ( -\\ln ( F\\'(v)))$')\n",
    "plt.show()"
   ]
  },
  {
   "cell_type": "markdown",
   "metadata": {
    "colab_type": "text",
    "id": "QUN600AgIOyT"
   },
   "source": [
    "<H3>Parámetros de Weibull</H3>\n",
    "\n",
    "Obtenibles a partir de, $$k = A \\tag{5.a}$$ $$c = \\exp \\left(-\\frac{B}{A}\\right) \\tag{5.b}$$"
   ]
  },
  {
   "cell_type": "code",
   "execution_count": 93,
   "metadata": {
    "colab": {},
    "colab_type": "code",
    "id": "yLB-FxpSIOyT",
    "outputId": "b8ebbe1c-5fce-4228-97d5-66f65373d634"
   },
   "outputs": [
    {
     "name": "stdout",
     "output_type": "stream",
     "text": [
      "c = 7.80 m/s\n",
      "k = 2.47\n"
     ]
    }
   ],
   "source": [
    "k = p[0]\n",
    "c = math.exp(-p[1]/p[0])\n",
    "print('c = %.2f m/s\\nk = %.2f' % (c,k))"
   ]
  },
  {
   "cell_type": "markdown",
   "metadata": {
    "colab_type": "text",
    "id": "ufyY2yF6IOyV"
   },
   "source": [
    "El valor obtenido indica que el estudio del viento se ha realizado en un territorio correspondiente a una llanura despejada\n"
   ]
  },
  {
   "cell_type": "markdown",
   "metadata": {
    "colab_type": "text",
    "id": "6JZDhjzuIOyV"
   },
   "source": [
    "En realidad el valor de $c$ corresponde al valor de velocidad $u$ por el cual la recta horizontal que pasa por $0$ de la escala de las ordenadas corta a la recta de la regresión y $k$ es la pendiente de la misma. "
   ]
  },
  {
   "cell_type": "markdown",
   "metadata": {
    "colab_type": "text",
    "id": "1j7viBRIIOyV"
   },
   "source": [
    "<h2>Comparativas entre datos y modelo</h2>"
   ]
  },
  {
   "cell_type": "markdown",
   "metadata": {
    "colab_type": "text",
    "id": "cwsbFXjPIOyV"
   },
   "source": [
    "Comparativas de valores como la media aritmética y la media de Weibull\n",
    "\n",
    "![Expresiones Weibull](./Figs/fig03.png)"
   ]
  },
  {
   "cell_type": "code",
   "execution_count": 94,
   "metadata": {
    "colab": {},
    "colab_type": "code",
    "id": "WDKydgWfIOyW"
   },
   "outputs": [],
   "source": [
    "Fmod = lambda v : 1 - math.exp(-(v/c)**k) # funcion de la probabilidad de Weibull"
   ]
  },
  {
   "cell_type": "code",
   "execution_count": 95,
   "metadata": {
    "colab": {},
    "colab_type": "code",
    "id": "xXeYoa-YIOyX",
    "outputId": "f884f82c-54ae-4443-f06a-7ecd5c2c8464"
   },
   "outputs": [
    {
     "data": {
      "text/plain": [
       "array([ 0.86      ,  2.16642857,  3.47285714,  4.77928571,  6.08571429,\n",
       "        7.39214286,  8.69857143, 10.005     , 11.31142857, 12.61785714,\n",
       "       13.92428571, 15.23071429, 16.53714286, 17.84357143, 19.15      ])"
      ]
     },
     "execution_count": 95,
     "metadata": {},
     "output_type": "execute_result"
    }
   ],
   "source": [
    "u1nclass"
   ]
  },
  {
   "cell_type": "code",
   "execution_count": 96,
   "metadata": {
    "colab": {},
    "colab_type": "code",
    "id": "tSpUq_5nIOyY"
   },
   "outputs": [],
   "source": [
    "Fmodu1 = np.array([Fmod(v) for v in u1nclass[1:]])"
   ]
  },
  {
   "cell_type": "code",
   "execution_count": 97,
   "metadata": {
    "colab": {},
    "colab_type": "code",
    "id": "pkvIZvoIIOyZ",
    "outputId": "ce1beb9e-713a-491d-cde1-011a5f5056f4"
   },
   "outputs": [
    {
     "data": {
      "text/plain": [
       "array([0.04122843, 0.12654276, 0.25775979, 0.41838289, 0.58387387,\n",
       "       0.73054779, 0.84335159, 0.91883972, 0.96278352, 0.98499347,\n",
       "       0.99471181, 0.99838089, 0.99957169, 0.99990263])"
      ]
     },
     "execution_count": 97,
     "metadata": {},
     "output_type": "execute_result"
    }
   ],
   "source": [
    "Fmodu1"
   ]
  },
  {
   "cell_type": "code",
   "execution_count": 98,
   "metadata": {
    "colab": {},
    "colab_type": "code",
    "id": "0ZZXZZk3IOyb",
    "outputId": "febe238b-98ab-4db6-ab30-fca432bfc5da"
   },
   "outputs": [
    {
     "data": {
      "image/png": "[encoded data removed]",
      "text/plain": [
       "<Figure size 432x288 with 1 Axes>"
      ]
     },
     "metadata": {
      "needs_background": "light"
     },
     "output_type": "display_data"
    }
   ],
   "source": [
    "plt.plot(u1nclass[1:],Fu1,'x') #histograma\n",
    "plt.plot(u1nclass[1:],Fmodu1) #Weibull\n",
    "\n",
    "plt.legend(['$F(v)$','$F_{W}(v)$'])\n",
    "plt.xlabel('v, m/s')\n",
    "plt.ylabel('$F(v\\leq V)$')\n",
    "plt.title('Probabilidad $F(v)$ y modelo $F_{W}(v)$')\n",
    "plt.grid()\n",
    "plt.show()"
   ]
  },
  {
   "cell_type": "markdown",
   "metadata": {
    "colab_type": "text",
    "id": "By1MmNzFIOyc"
   },
   "source": [
    "Curva de la velocidad"
   ]
  },
  {
   "cell_type": "code",
   "execution_count": 99,
   "metadata": {
    "colab": {},
    "colab_type": "code",
    "id": "gL_3F_hkIOyc"
   },
   "outputs": [],
   "source": [
    "Fcmodu1 = np.array([1 - Fmod(v) for v in u1nclass[1:]])"
   ]
  },
  {
   "cell_type": "code",
   "execution_count": 100,
   "metadata": {
    "colab": {},
    "colab_type": "code",
    "id": "Okyd5MPwIOyf",
    "outputId": "a79c1653-4b59-4b94-badd-c5cda6e4925a"
   },
   "outputs": [
    {
     "data": {
      "text/plain": [
       "array([9.58771572e-01, 8.73457242e-01, 7.42240213e-01, 5.81617106e-01,\n",
       "       4.16126126e-01, 2.69452209e-01, 1.56648408e-01, 8.11602762e-02,\n",
       "       3.72164785e-02, 1.50065250e-02, 5.28819300e-03, 1.61910548e-03,\n",
       "       4.28306453e-04, 9.73679116e-05])"
      ]
     },
     "execution_count": 100,
     "metadata": {},
     "output_type": "execute_result"
    }
   ],
   "source": [
    "Fcmodu1"
   ]
  },
  {
   "cell_type": "code",
   "execution_count": 101,
   "metadata": {
    "colab": {},
    "colab_type": "code",
    "id": "fYUMCFtwIOyg",
    "outputId": "2e0b42fb-60e0-4ac5-ecce-452b0a72dd5a"
   },
   "outputs": [
    {
     "data": {
      "image/png": "[encoded data removed]",
      "text/plain": [
       "<Figure size 432x288 with 1 Axes>"
      ]
     },
     "metadata": {
      "needs_background": "light"
     },
     "output_type": "display_data"
    }
   ],
   "source": [
    "plt.plot(u1nclass[1:],Fpu1,'x')\n",
    "plt.plot(u1nclass[1:], Fcmodu1)\n",
    "plt.legend(['$F(v)$','$F_{W}(v)$'])\n",
    "plt.xlabel('v, m/s')\n",
    "plt.ylabel('$F(v\\leq V)$')\n",
    "plt.title('Probabilidad complemetaria $F\\'(v)$ y modelo $F\\'_{W}(v)$')\n",
    "plt.grid()\n",
    "plt.show()"
   ]
  },
  {
   "cell_type": "markdown",
   "metadata": {
    "colab_type": "text",
    "id": "S6N-oEFUIOyh"
   },
   "source": [
    "Definicion de la función de la distribución de la probabilidad de Weibull"
   ]
  },
  {
   "cell_type": "code",
   "execution_count": 102,
   "metadata": {
    "colab": {},
    "colab_type": "code",
    "id": "HL2krKhOIOyi"
   },
   "outputs": [],
   "source": [
    "p = lambda v,c,k : (k/c)*(v/c)**(k-1)*np.exp(-(v/c)**k) # función de distribucion de la probabilidad de Weibull"
   ]
  },
  {
   "cell_type": "code",
   "execution_count": 103,
   "metadata": {
    "colab": {},
    "colab_type": "code",
    "id": "GUC0R0NDIOyj"
   },
   "outputs": [],
   "source": [
    "pu1 = np.array([p(v,c,k) for v in u1nclass[:-1]])\n",
    "pu2 = np.array([p(v,c,k) for v in u2nclass[:-1]])"
   ]
  },
  {
   "cell_type": "code",
   "execution_count": 104,
   "metadata": {
    "colab": {},
    "colab_type": "code",
    "id": "zTjI32giIOyk",
    "outputId": "eb9cdefd-2863-4899-9c23-794cf8d2a0aa"
   },
   "outputs": [
    {
     "data": {
      "image/png": "[encoded data removed]",
      "text/plain": [
       "<Figure size 432x288 with 1 Axes>"
      ]
     },
     "metadata": {
      "needs_background": "light"
     },
     "output_type": "display_data"
    }
   ],
   "source": [
    "plt.plot(u1nclass[:-1],pu1,'--') \n",
    "plt.bar(u1nclass[:-1],u1histNorm,label='u1') \n",
    "#plt.plot(u2nclass[:-1],pu2,'--') \n",
    "#plt.bar(u2nclass[:-1],u2histNorm, label='u2')\n",
    "plt.legend()\n",
    "plt.show()"
   ]
  },
  {
   "cell_type": "markdown",
   "metadata": {
    "colab_type": "text",
    "id": "bln4iMyuIOyl"
   },
   "source": [
    "Comparativa de los datos de la serie y la distribución con los parámetros ($c$ ; $k$)"
   ]
  },
  {
   "cell_type": "code",
   "execution_count": 105,
   "metadata": {
    "colab": {},
    "colab_type": "code",
    "id": "_XfsPmVGIOyl",
    "outputId": "d8b59c81-2559-492d-c22c-afe184f71469"
   },
   "outputs": [
    {
     "data": {
      "image/png": "[encoded data removed]",
      "text/plain": [
       "<Figure size 432x288 with 1 Axes>"
      ]
     },
     "metadata": {
      "needs_background": "light"
     },
     "output_type": "display_data"
    }
   ],
   "source": [
    "plt.bar(u1nclass[:-1],u1histNorm,label='hist')\n",
    "plt.plot(u1nclass[:-1],pu1,'r--',label='p(x)') \n",
    "plt.plot(u1nclass[:-1],Fu1)\n",
    "plt.plot(u1nclass[:-1],Fpu1)\n",
    "plt.legend(['$p(v)$','$F(v)$','$F\\'(v)$'])\n",
    "plt.xlabel('v, m/s')\n",
    "plt.ylabel('$F(v\\leq V),F\\'(v>V)$')\n",
    "plt.title('Función de Probabilidad $F(v)$ y la Complementaria $F\\'(v)$')\n",
    "plt.grid()\n",
    "plt.show()"
   ]
  },
  {
   "cell_type": "markdown",
   "metadata": {
    "colab_type": "text",
    "id": "TlsOe_kcIOym"
   },
   "source": [
    "Comparativa de histogramas\n",
    "\n",
    "![Histogramas](./Figs/fig05.png)"
   ]
  },
  {
   "cell_type": "markdown",
   "metadata": {
    "colab_type": "text",
    "id": "EgwpY5_TIOym"
   },
   "source": [
    "<h3>Curva de Duración de la Velocidad del Viento</h3>"
   ]
  },
  {
   "cell_type": "markdown",
   "metadata": {
    "colab_type": "text",
    "id": "EEOFGzB_IOym"
   },
   "source": [
    "Definición de la función de probabilidad complementaria a partir de los parámetros $c$ y $k$. $$F'(v) = \\exp\\left[-\\left(\\frac{v}{c}\\right)^k\\right] \\tag{6}$$"
   ]
  },
  {
   "cell_type": "code",
   "execution_count": 106,
   "metadata": {
    "colab": {},
    "colab_type": "code",
    "id": "PrwuIwc9IOym"
   },
   "outputs": [],
   "source": [
    "Fpmod = lambda v : math.exp(-(v/c)**k)"
   ]
  },
  {
   "cell_type": "code",
   "execution_count": 107,
   "metadata": {
    "colab": {},
    "colab_type": "code",
    "id": "Ww-ql8v9IOyn"
   },
   "outputs": [],
   "source": [
    "Fpmodu1 = np.array([ Fpmod(v) for v in u1nclass])"
   ]
  },
  {
   "cell_type": "markdown",
   "metadata": {
    "colab_type": "text",
    "id": "J70Xh2XkIOyo"
   },
   "source": [
    "La duración de horas queda definida por la probabilidad complementaria de la existencia de una velocidad determinada o superior."
   ]
  },
  {
   "cell_type": "code",
   "execution_count": 108,
   "metadata": {
    "colab": {},
    "colab_type": "code",
    "id": "8JoAwsNNIOyo"
   },
   "outputs": [],
   "source": [
    "Duration = np.array([x*24*31 for x in Fpmodu1])"
   ]
  },
  {
   "cell_type": "code",
   "execution_count": 109,
   "metadata": {
    "colab": {},
    "colab_type": "code",
    "id": "b8U9zsEJIOyp",
    "outputId": "c676b647-8cd4-4185-e51f-8a1136a779f0"
   },
   "outputs": [
    {
     "data": {
      "text/plain": [
       "array([7.40820453e+02, 7.13326050e+02, 6.49852188e+02, 5.52226718e+02,\n",
       "       4.32723127e+02, 3.09597838e+02, 2.00472444e+02, 1.16546416e+02,\n",
       "       6.03832455e+01, 2.76890600e+01, 1.11648546e+01, 3.93441559e+00,\n",
       "       1.20461448e+00, 3.18660001e-01, 7.24417262e-02])"
      ]
     },
     "execution_count": 109,
     "metadata": {},
     "output_type": "execute_result"
    }
   ],
   "source": [
    "Duration"
   ]
  },
  {
   "cell_type": "code",
   "execution_count": 110,
   "metadata": {
    "colab": {},
    "colab_type": "code",
    "id": "5PnIX627IOyr",
    "outputId": "cbc10aba-b209-4c0f-890d-330f6131a818"
   },
   "outputs": [
    {
     "data": {
      "image/png": "[encoded data removed]",
      "text/plain": [
       "<Figure size 432x288 with 1 Axes>"
      ]
     },
     "metadata": {
      "needs_background": "light"
     },
     "output_type": "display_data"
    }
   ],
   "source": [
    "plt.plot(Duration,u1nclass)\n",
    "plt.grid()\n",
    "plt.title('Curva de Duración de la Velocidad')\n",
    "plt.xlabel('Time, hr')\n",
    "plt.ylabel('V, m/s')\n",
    "plt.show()"
   ]
  },
  {
   "cell_type": "markdown",
   "metadata": {
    "colab_type": "text",
    "id": "Or43i4l0IOys"
   },
   "source": [
    "Curva importante para la evaluación del rendimiento de la generación anual de una máquina en particular.\n",
    "De esta curva podemos saber la cantidad de horas que el generador estará en funcionamiento. En este caso rondará las 520-530 horas ya que es el número de horas donde la velocidad del viento es superior a 5 m/s, velocidad necesaria para que el aerogenerador se mueva\n",
    "También podemos conocer el numero de horas que producirá la potencia nominal. Teniendo en cuenta que esta potencia se porduce para vientos superiores a los 10-12 m/s, para este caso concreto la potencia nominal se generará durnte unas 50 horas"
   ]
  },
  {
   "cell_type": "code",
   "execution_count": null,
   "metadata": {},
   "outputs": [],
   "source": []
  },
  {
   "cell_type": "code",
   "execution_count": null,
   "metadata": {},
   "outputs": [],
   "source": []
  },
  {
   "cell_type": "code",
   "execution_count": null,
   "metadata": {},
   "outputs": [],
   "source": []
  }
 ],
 "metadata": {
  "colab": {
   "name": "estadisticaViento_20200610_G11y12.ipynb",
   "provenance": [],
   "toc_visible": true
  },
  "kernelspec": {
   "display_name": "Python 3",
   "language": "python",
   "name": "python3"
  },
  "language_info": {
   "codemirror_mode": {
    "name": "ipython",
    "version": 3
   },
   "file_extension": ".py",
   "mimetype": "text/x-python",
   "name": "python",
   "nbconvert_exporter": "python",
   "pygments_lexer": "ipython3",
   "version": "3.7.6"
  },
  "toc": {
   "base_numbering": 1,
   "nav_menu": {},
   "number_sections": true,
   "sideBar": true,
   "skip_h1_title": false,
   "title_cell": "Table of Contents",
   "title_sidebar": "Contents",
   "toc_cell": false,
   "toc_position": {},
   "toc_section_display": true,
   "toc_window_display": false
  }
 },
 "nbformat": 4,
 "nbformat_minor": 4
}
